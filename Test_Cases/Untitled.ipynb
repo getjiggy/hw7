{
 "cells": [
  {
   "cell_type": "code",
   "execution_count": 5,
   "id": "bd20ba6f-be0b-4d06-a4bb-3a96ea46b3b8",
   "metadata": {},
   "outputs": [
    {
     "name": "stdout",
     "output_type": "stream",
     "text": [
      "100% bonds (AGG), 0% equities (SPY)\n"
     ]
    }
   ],
   "source": [
    "    responseDict = {\n",
    "        \"none\": \"100% bonds (AGG), 0% equities (SPY)\",\n",
    "        \"low\": \"60% bonds (AGG), 40% equities (SPY)\",\n",
    "        \"medium\": \"40% bonds (AGG), 60% equities (SPY)\",\n",
    "        \"high\": \"20% bonds (AGG), 80% equities (SPY)\"\n",
    "    }\n",
    "    print(responseDict['none'])"
   ]
  },
  {
   "cell_type": "code",
   "execution_count": null,
   "id": "7b58c28a-9671-40da-9125-a89728912530",
   "metadata": {},
   "outputs": [],
   "source": []
  }
 ],
 "metadata": {
  "kernelspec": {
   "display_name": "Python 3 (ipykernel)",
   "language": "python",
   "name": "python3"
  },
  "language_info": {
   "codemirror_mode": {
    "name": "ipython",
    "version": 3
   },
   "file_extension": ".py",
   "mimetype": "text/x-python",
   "name": "python",
   "nbconvert_exporter": "python",
   "pygments_lexer": "ipython3",
   "version": "3.10.2"
  }
 },
 "nbformat": 4,
 "nbformat_minor": 5
}
